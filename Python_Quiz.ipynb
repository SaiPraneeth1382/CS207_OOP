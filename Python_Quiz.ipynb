{
  "nbformat": 4,
  "nbformat_minor": 2,
  "metadata": {
    "colab": {
      "name": "Untitled0.ipynb",
      "provenance": []
    },
    "kernelspec": {
      "name": "python3",
      "display_name": "Python 3"
    },
    "language_info": {
      "name": "python"
    }
  },
  "cells": [
    {
      "cell_type": "markdown",
      "source": [
        "**Problem 1: Write a function that returns the maximum of two numbers.**"
      ],
      "metadata": {
        "id": "_XExO3STr4fQ"
      }
    },
    {
      "cell_type": "code",
      "execution_count": null,
      "source": [
        "def maxNum(a, b):\r\n",
        "  if (a > b):\r\n",
        "    return a\r\n",
        "  return b"
      ],
      "outputs": [],
      "metadata": {
        "id": "pJXfuN-1qqm7"
      }
    },
    {
      "cell_type": "markdown",
      "source": [
        "**Problem 2: Write a function called numberGame that takes a number.\r\n",
        "If the number is divisible by 3, it should return “number”.\r\n",
        "If it is divisible by 5, it should return “Game”.\r\n",
        "If it is divisible by both 3 and 5, it should return “numberGame”.\r\n",
        "Otherwise, it should return the same number.**"
      ],
      "metadata": {
        "id": "yCN2ntXvsMSX"
      }
    },
    {
      "cell_type": "code",
      "execution_count": null,
      "source": [
        "def numberGame(num):\r\n",
        "  if (num%3==0 and num%5==0):\r\n",
        "    return \"numberGame\"\r\n",
        "  elif (num%3==0):\r\n",
        "    return \"number\"\r\n",
        "  elif (num%5==0):\r\n",
        "    return \"Game\"\r\n",
        "  else:\r\n",
        "    return num\r\n"
      ],
      "outputs": [],
      "metadata": {
        "id": "LPC2wJV2s7CQ"
      }
    },
    {
      "cell_type": "markdown",
      "source": [
        "**Problem 3: Write a function for checking the speed of drivers. This function should have one parameter: speed. If speed is less than 70, it should print “Ok”.Otherwise, for every 5km above the speed limit (70), it should give the driver one demerit point and print the total number of demerit points. For example, if the speed is 80, it should print: “Points: 2”.If the driver gets more than 12 points, the function should print: “License suspended”"
      ],
      "metadata": {
        "id": "v_aJ6q-dta-X"
      }
    },
    {
      "cell_type": "code",
      "execution_count": null,
      "source": [
        "def speedCheck(speed):\r\n",
        "  if (speed < 70):\r\n",
        "    print(\"OK\")\r\n",
        "  else:\r\n",
        "    points = speed - 70\r\n",
        "    points = points//5\r\n",
        "    if (points > 12):\r\n",
        "      print(\"License suspended\")\r\n",
        "    else:\r\n",
        "      print(f\"Points: {points}\")\r\n",
        "\r\n",
        "speedCheck(80)\r\n",
        "speedCheck(90)"
      ],
      "outputs": [
        {
          "output_type": "stream",
          "name": "stdout",
          "text": [
            "Points: 2\n",
            "Points: 4\n"
          ]
        }
      ],
      "metadata": {
        "colab": {
          "base_uri": "https://localhost:8080/"
        },
        "id": "Dka0ZO2xuqOr",
        "outputId": "b0b22d2a-0d11-4c3d-8def-0adf165728e6"
      }
    },
    {
      "cell_type": "markdown",
      "source": [
        "**Problem 4: Write a function called showNumbers that takes a parameter called limit. It should print all the numbers between 0 and limit with a label to identify the even and odd numbers. For example, if the limit is 3, it should print:\n",
        "0 EVEN\n",
        "1 ODD\n",
        "2 EVEN\n",
        "3 ODD\n",
        "**\n"
      ],
      "metadata": {
        "id": "81eXr8M1xBfQ"
      }
    },
    {
      "cell_type": "code",
      "execution_count": null,
      "source": [
        "def showNumbers(limit):\r\n",
        "  for i in range(0,limit+1):\r\n",
        "    if (i%2==0):\r\n",
        "      print(f\"{i} EVEN\")\r\n",
        "    else:\r\n",
        "      print(f\"{i} ODD\")\r\n",
        "\r\n",
        "showNumbers(5)"
      ],
      "outputs": [
        {
          "output_type": "stream",
          "name": "stdout",
          "text": [
            "0 EVEN\n",
            "1 ODD\n",
            "2 EVEN\n",
            "3 ODD\n",
            "4 EVEN\n",
            "5 ODD\n"
          ]
        }
      ],
      "metadata": {
        "colab": {
          "base_uri": "https://localhost:8080/"
        },
        "id": "GDswWDJ-wD84",
        "outputId": "ef25f043-c3f5-4ba4-f372-55a3a0c29ee2"
      }
    },
    {
      "cell_type": "markdown",
      "source": [
        "**Problem 5: Write a function called showSigns(rows). If rows is 5, it should print the following:\n",
        "&\n",
        "&&\n",
        "&&&\n",
        "&&&&\n",
        "&&&&&\n",
        "**"
      ],
      "metadata": {
        "id": "s7BLmJX3y5vT"
      }
    },
    {
      "cell_type": "code",
      "execution_count": null,
      "source": [
        "def showSigns(rows):\r\n",
        "  for i in range(1, rows+1):\r\n",
        "    for j in range(i):\r\n",
        "      print(\"&\", end=\"\")\r\n",
        "    print(\"\\n\")\r\n",
        "\r\n",
        "showSigns(10)"
      ],
      "outputs": [
        {
          "output_type": "stream",
          "name": "stdout",
          "text": [
            "&\n",
            "\n",
            "&&\n",
            "\n",
            "&&&\n",
            "\n",
            "&&&&\n",
            "\n",
            "&&&&&\n",
            "\n",
            "&&&&&&\n",
            "\n",
            "&&&&&&&\n",
            "\n",
            "&&&&&&&&\n",
            "\n",
            "&&&&&&&&&\n",
            "\n",
            "&&&&&&&&&&\n",
            "\n"
          ]
        }
      ],
      "metadata": {
        "colab": {
          "base_uri": "https://localhost:8080/"
        },
        "id": "jtS95qU2y2c5",
        "outputId": "d0396566-226b-41f8-b5b2-ce11ef474cee"
      }
    },
    {
      "cell_type": "markdown",
      "source": [
        "**Problem 6: Write a function that prints all the prime numbers between 0 and max where max is a parameter.**"
      ],
      "metadata": {
        "id": "0Ogk6Porz0Dq"
      }
    },
    {
      "cell_type": "code",
      "execution_count": null,
      "source": [
        "def primeList(max):\r\n",
        "  for i in range(2, max+1):\r\n",
        "    check = True\r\n",
        "    for j in range(2,i):\r\n",
        "      if (i%j==0):\r\n",
        "        check = False\r\n",
        "        break\r\n",
        "    if check:\r\n",
        "      print(i)\r\n",
        "\r\n",
        "primeList(10)"
      ],
      "outputs": [
        {
          "output_type": "stream",
          "name": "stdout",
          "text": [
            "2\n",
            "3\n",
            "5\n",
            "7\n"
          ]
        }
      ],
      "metadata": {
        "colab": {
          "base_uri": "https://localhost:8080/"
        },
        "id": "fsmHEN6Kzpt5",
        "outputId": "deb07740-3b3c-4942-c2ff-7a213c057ece"
      }
    }
  ]
}