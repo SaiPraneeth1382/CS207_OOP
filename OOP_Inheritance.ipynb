{
  "nbformat": 4,
  "nbformat_minor": 0,
  "metadata": {
    "colab": {
      "name": "OOP_Inheritance.ipynb",
      "provenance": [],
      "collapsed_sections": []
    },
    "kernelspec": {
      "name": "python3",
      "display_name": "Python 3"
    },
    "language_info": {
      "name": "python"
    }
  },
  "cells": [
    {
      "cell_type": "markdown",
      "metadata": {
        "id": "XLQrEJgjahdZ"
      },
      "source": [
        "1. Single Inheritance in Python\n",
        "In single inheritance, a single class inherits from a class. This is the simplest form of inheritance.single inheritance in python"
      ]
    },
    {
      "cell_type": "code",
      "metadata": {
        "id": "Y02K3VkkaqTQ",
        "colab": {
          "base_uri": "https://localhost:8080/"
        },
        "outputId": "af183854-4b2c-406d-e92d-10b8a209bfbd"
      },
      "source": [
        "class Parent:\n",
        "    def show(self):\n",
        "        print(\"Parent Class\")\n",
        "class Child(Parent):\n",
        "    def display(self):\n",
        "        print(\"Child Class\")\n",
        "c = Child()\n",
        "c.display()\n",
        "c.show()"
      ],
      "execution_count": 2,
      "outputs": [
        {
          "output_type": "stream",
          "name": "stdout",
          "text": [
            "Child Class\n",
            "Parent Class\n"
          ]
        }
      ]
    },
    {
      "cell_type": "markdown",
      "metadata": {
        "id": "XdiMBOBcayud"
      },
      "source": [
        "**2. Multilevel Inheritance in Python**\n",
        "* No limit on the number of levels that  can be inherited. \n",
        "*  Achieve multilevel inheritance by inheriting one class from another which then is inherited from another class."
      ]
    },
    {
      "cell_type": "code",
      "metadata": {
        "id": "0xS22cbwbRUh",
        "colab": {
          "base_uri": "https://localhost:8080/"
        },
        "outputId": "9520b2de-0bd6-4782-98a5-a6d97b7a46db"
      },
      "source": [
        "class A:\n",
        "    def methodA(self):\n",
        "        print(\"A class\")\n",
        "class B(A):\n",
        "    def methodB(self):\n",
        "        print(\"B class\")\n",
        "class C(B):\n",
        "    def methodC(self):\n",
        "        print(\"C class\")\n",
        "c = C()\n",
        "c.methodA()\n",
        "c.methodB()\n",
        "c.methodC()"
      ],
      "execution_count": 3,
      "outputs": [
        {
          "output_type": "stream",
          "name": "stdout",
          "text": [
            "A class\n",
            "B class\n",
            "C class\n"
          ]
        }
      ]
    },
    {
      "cell_type": "markdown",
      "metadata": {
        "id": "bDp-QiPWbbQU"
      },
      "source": [
        "**3. Multiple Inheritance in Python**"
      ]
    },
    {
      "cell_type": "code",
      "metadata": {
        "colab": {
          "base_uri": "https://localhost:8080/"
        },
        "id": "FTbxAAsCbn3U",
        "outputId": "6284a375-10ff-4e1d-9b5d-4c3bb25db08b"
      },
      "source": [
        "class A:\n",
        "    def methodA(self):\n",
        "        print(\"A class\")\n",
        "class B:\n",
        "    def methodB(self):\n",
        "        print(\"B class\")\n",
        "class C:\n",
        "    def methodC(self):\n",
        "        print(\"C class\")\n",
        "class D(A, B, C):\n",
        "    def methodD(self):\n",
        "        print(\"D class\")\n",
        "d = D()\n",
        "d.methodA()\n",
        "d.methodB()\n",
        "d.methodC()\n",
        "d.methodD()"
      ],
      "execution_count": 4,
      "outputs": [
        {
          "output_type": "stream",
          "name": "stdout",
          "text": [
            "A class\n",
            "B class\n",
            "C class\n",
            "D class\n"
          ]
        }
      ]
    },
    {
      "cell_type": "code",
      "metadata": {
        "id": "smLvXGGALH9m",
        "colab": {
          "base_uri": "https://localhost:8080/"
        },
        "outputId": "5bbf56ac-ca38-4295-dcc7-f28928dcc009"
      },
      "source": [
        "# Program 1:\n",
        "class Person(object):\n",
        "       \n",
        "    # Constructor\n",
        "    def __init__(self, name):\n",
        "        self.name = name\n",
        "   \n",
        "    # To get name\n",
        "    def getName(self):\n",
        "        return self.name\n",
        "   \n",
        "    # To check if this person is a student\n",
        "    def isStudent(self):\n",
        "        return False\n",
        "   \n",
        "# Inherited or Subclass (Note Person in bracket)\n",
        "class Student(Person):\n",
        "   \n",
        "    # Check and return true\n",
        "    def isStudent(self):\n",
        "        return True\n",
        "   \n",
        "# Driver code\n",
        "st = Person(\"OOP Course\")  # An Object of Person\n",
        "print(st.getName(), st.isStudent())\n",
        "   \n",
        "st = Student(\"CSE COurse\") # An Object of Student\n",
        "print(st.getName(), st.isStudent())"
      ],
      "execution_count": 5,
      "outputs": [
        {
          "output_type": "stream",
          "name": "stdout",
          "text": [
            "OOP Course False\n",
            "CSE COurse True\n"
          ]
        }
      ]
    },
    {
      "cell_type": "markdown",
      "metadata": {
        "id": "dNMd3vWabvlo"
      },
      "source": [
        "**4. Hierarchical Inheritance in Python**"
      ]
    },
    {
      "cell_type": "code",
      "metadata": {
        "id": "w10i9hZtb7vh",
        "colab": {
          "base_uri": "https://localhost:8080/"
        },
        "outputId": "0f5f25be-11f3-433a-fcdc-8ae2314a2907"
      },
      "source": [
        "class A:\n",
        "    def methodA(self):\n",
        "        print(\"A class\")\n",
        "class B(A):\n",
        "    def methodB(self):\n",
        "        print(\"B class\")\n",
        "class C(A):\n",
        "    def methodC(self):\n",
        "        print(\"C class\")\n",
        "b = B()\n",
        "c = C()\n",
        "b.methodA()\n",
        "c.methodA()"
      ],
      "execution_count": 6,
      "outputs": [
        {
          "output_type": "stream",
          "name": "stdout",
          "text": [
            "A class\n",
            "A class\n"
          ]
        }
      ]
    },
    {
      "cell_type": "markdown",
      "metadata": {
        "id": "c-W_u47ocAzR"
      },
      "source": [
        "**5. Hybrid Inheritance in Python**\n",
        "\n",
        "* The term Hybrid describes that it is a mixture of more than one type. Hybrid inheritance is a combination of different types of inheritance"
      ]
    },
    {
      "cell_type": "code",
      "metadata": {
        "id": "uzWidUuEcNyL",
        "colab": {
          "base_uri": "https://localhost:8080/"
        },
        "outputId": "9277fbec-298c-49e3-9fe1-64b777204912"
      },
      "source": [
        "class A:\n",
        "    def methodA(self):\n",
        "        print(\"A class\")\n",
        "class B(A):\n",
        "    def methodB(self):\n",
        "        print(\"B class\")\n",
        "class C(A):\n",
        "    def methodC(self):\n",
        "        print(\"C class\")\n",
        "class D(B,C):\n",
        "    def methodD(self):\n",
        "        print(\"D class\")\n",
        "d = D()\n",
        "d.methodA()"
      ],
      "execution_count": 7,
      "outputs": [
        {
          "output_type": "stream",
          "name": "stdout",
          "text": [
            "A class\n"
          ]
        }
      ]
    },
    {
      "cell_type": "markdown",
      "metadata": {
        "id": "WTTBwB8IcWxH"
      },
      "source": [
        "**Python Inheritance – super() function**\n",
        "\n",
        "\n"
      ]
    },
    {
      "cell_type": "code",
      "metadata": {
        "id": "4fPgnYwMceS2",
        "colab": {
          "base_uri": "https://localhost:8080/"
        },
        "outputId": "3cbe4fa7-e529-459c-9341-dd26176f5cdb"
      },
      "source": [
        "class A:\n",
        "    x=459\n",
        "    def methodA(self):\n",
        "        print(\"A class\")\n",
        "class B(A):\n",
        "    def methodB(self):\n",
        "        super().methodA()\n",
        "        print(\"B class\")\n",
        "        print(super().x)\n",
        "b = B()\n",
        "b.methodB()"
      ],
      "execution_count": 9,
      "outputs": [
        {
          "output_type": "stream",
          "name": "stdout",
          "text": [
            "A class\n",
            "B class\n",
            "459\n"
          ]
        }
      ]
    },
    {
      "cell_type": "code",
      "metadata": {
        "id": "geNzWomgMf9I",
        "colab": {
          "base_uri": "https://localhost:8080/"
        },
        "outputId": "12728f4d-b628-4a3e-e4c4-02fe41638c16"
      },
      "source": [
        "# Problem 2:   \n",
        "# parent class\n",
        "class Person( object ):    \n",
        "        # __init__ is known as the constructor         \n",
        "        def __init__(self, name, idnumber):   \n",
        "                self.name = name\n",
        "                self.idnumber = idnumber\n",
        "        def display(self):\n",
        "                print(self.name)\n",
        "                print(self.idnumber)\n",
        "# child class\n",
        "class Student( Person ):           \n",
        "        def __init__(self, name, idnumber, deptid,state):\n",
        "                self.deptid = deptid\n",
        "                self.state = state\n",
        "  \n",
        "                # invoking the __init__ of the parent class \n",
        "                Person.__init__(self, name, idnumber) \n",
        "  \n",
        "# creation of an object variable or an instance\n",
        "st = Student('Kishore',\"20BCS122\", \"CSE122\", \"TS\")    \n",
        "  \n",
        "# calling a function of the class Person using its instance\n",
        "st.display() "
      ],
      "execution_count": 11,
      "outputs": [
        {
          "output_type": "stream",
          "name": "stdout",
          "text": [
            "Kishore\n",
            "20BCS122\n"
          ]
        }
      ]
    },
    {
      "cell_type": "code",
      "metadata": {
        "id": "yg0_u8h0OEBx",
        "colab": {
          "base_uri": "https://localhost:8080/"
        },
        "outputId": "b40ce070-3b2f-4b2e-a79e-93b557ff2c48"
      },
      "source": [
        "# Program 3: Python program to demonstrate error if \n",
        "#  __init__() of the parent is not invoked\n",
        "  \n",
        "class A(object):\n",
        "      def __init__(self,n):\n",
        "              self.name = n\n",
        "class B(A):\n",
        "      def __init__(self,roll,n):\n",
        "              self.roll = roll\n",
        "\n",
        "              A.__init__(self,n)      #  if this is removed, it gives an error              \n",
        "  \n",
        "course = B(\"OOP Course\",673)\n",
        "print (course.name)"
      ],
      "execution_count": 13,
      "outputs": [
        {
          "output_type": "stream",
          "name": "stdout",
          "text": [
            "673\n"
          ]
        }
      ]
    },
    {
      "cell_type": "code",
      "metadata": {
        "id": "MZz3e2pPJk1V",
        "colab": {
          "base_uri": "https://localhost:8080/"
        },
        "outputId": "97ccb9d0-84e8-4e1b-f553-0b736c083df8"
      },
      "source": [
        "# Program 4:\n",
        "class Polygon:\n",
        "    def __init__(self, no_of_sides):\n",
        "        self.n = no_of_sides\n",
        "        self.sides = [0 for i in range(no_of_sides)]\n",
        "\n",
        "    def inputSides(self):\n",
        "        self.sides = [float(input(\"Enter side \"+str(i+1)+\" : \")) for i in range(self.n)]\n",
        "\n",
        "    def dispSides(self):\n",
        "        for i in range(self.n):\n",
        "            print(\"Side\",i+1,\"is\",self.sides[i])\n",
        "class Triangle(Polygon):\n",
        "  def __init__(self):\n",
        "    Polygon.__init__(self,3)\n",
        "  def findArea(self):\n",
        "    a, b, c = self.sides\n",
        "    s = (a + b + c) / 2 #calculate the semi-perimeter\n",
        "    area = (s*(s-a)*(s-b)*(s-c))**0.5\n",
        "    print('The area of the triangle is %0.2f' %area)   \n",
        "\n",
        "t = Triangle()\n",
        "t.inputSides()\n",
        "t.dispSides()\n",
        "t.findArea()\n",
        "            "
      ],
      "execution_count": 16,
      "outputs": [
        {
          "output_type": "stream",
          "name": "stdout",
          "text": [
            "Enter side 1 : 3\n",
            "Enter side 2 : 4\n",
            "Enter side 3 : 5\n",
            "Side 1 is 3.0\n",
            "Side 2 is 4.0\n",
            "Side 3 is 5.0\n",
            "The area of the triangle is 6.00\n"
          ]
        }
      ]
    }
  ]
}