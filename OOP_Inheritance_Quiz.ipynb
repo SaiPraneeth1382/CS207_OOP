{
  "nbformat": 4,
  "nbformat_minor": 2,
  "metadata": {
    "colab": {
      "name": "OOP_Inheritance_Quiz.ipynb",
      "provenance": [],
      "collapsed_sections": []
    },
    "kernelspec": {
      "name": "python3",
      "display_name": "Python 3"
    },
    "language_info": {
      "name": "python"
    }
  },
  "cells": [
    {
      "cell_type": "code",
      "execution_count": 1,
      "source": [
        "# Problem 1: Create a Player class\r\n",
        "class Player:\r\n",
        "    MAX_POSITION = 10     # Class attribute   \r\n",
        "    def __init__(self):\r\n",
        "      self.position = 0 \r\n",
        "print(Player.MAX_POSITION)    # instance accessing Class attribute\r\n",
        "# Create a player p and print its MAX_POSITITON\r\n",
        "p = Player()\r\n",
        "print(p.MAX_POSITION)"
      ],
      "outputs": [
        {
          "output_type": "stream",
          "name": "stdout",
          "text": [
            "10\n",
            "10\n"
          ]
        }
      ],
      "metadata": {
        "id": "kx8_0STwI5pg",
        "colab": {
          "base_uri": "https://localhost:8080/"
        },
        "outputId": "a4c83c7b-a037-4c63-9b85-3c2091029f0c"
      }
    },
    {
      "cell_type": "markdown",
      "source": [
        "### OOP - Inheritance - **Quiz**\r\n",
        "### P1 -  what will happen if you try to assign another value to a class attribute when accessing it from an instance?\r\n",
        "\r\n",
        "\"We cannot access them from an instance of a class.\""
      ],
      "metadata": {
        "id": "la0RUaeEIMTb"
      }
    },
    {
      "cell_type": "code",
      "execution_count": 18,
      "source": [
        "## Problem2 :\r\n",
        "class Player:\r\n",
        "    MAX_POSITION = 10     # Class attribute   \r\n",
        "    def __init__(self):\r\n",
        "      self.position = 0\r\n",
        "class Racer(Player):\r\n",
        "    MAX_SPEED = 5      # adding attributes to Child Class\r\n",
        "p = Player()\r\n",
        "r = Racer()\r\n",
        "\r\n",
        "print(\"r.MAX_SPEED = \", r.MAX_SPEED)\r\n",
        "print(\"p.MAX_POSITION = \", p.MAX_POSITION)\r\n",
        "print(\"r.MAX_POSITION = \", r.MAX_POSITION)"
      ],
      "outputs": [
        {
          "output_type": "stream",
          "name": "stdout",
          "text": [
            "r.MAX_SPEED =  5\n",
            "p.MAX_POSITION =  10\n",
            "r.MAX_POSITION =  10\n"
          ]
        }
      ],
      "metadata": {
        "colab": {
          "base_uri": "https://localhost:8080/"
        },
        "id": "28dJmpUYXmjt",
        "outputId": "3eddb843-8f0c-4e14-b150-b25675eed332"
      }
    },
    {
      "cell_type": "code",
      "execution_count": 10,
      "source": [
        "# Problem 3: making changes in Child class methods\n",
        "class Employee:\n",
        "    def __init__(self, name, salary=30000):\n",
        "        self.name = name\n",
        "        self.salary = salary\n",
        "    def give_raise(self, amount):\n",
        "        self.salary += amount        \n",
        "class Manager(Employee):\n",
        "    def display(self):\n",
        "        print(\"Manager \", self.name)\n",
        "    def __init__(self, name, salary=50000, project=None):\n",
        "        Employee.__init__(self, name, salary)\n",
        "        self.project = project\n",
        "    def give_raise(self, amount, bonus=1.05): # Add a give_raise method\n",
        "        new_amount = amount * bonus\n",
        "        Employee.give_raise(self, new_amount) \n",
        "mngr = Manager(\"Ram\", 78500)\n",
        "mngr.give_raise(1750)\n",
        "print(mngr.salary)   # what is the output?\n",
        "mngr.give_raise(2000, bonus=1.03)\n",
        "print(mngr.salary)"
      ],
      "outputs": [
        {
          "output_type": "stream",
          "name": "stdout",
          "text": [
            "80337.5\n",
            "82397.5\n"
          ]
        }
      ],
      "metadata": {
        "colab": {
          "base_uri": "https://localhost:8080/"
        },
        "id": "2eug9ZMOZLZx",
        "outputId": "99e1bb5f-26df-4b1c-e50a-b062ea44382e"
      }
    },
    {
      "cell_type": "code",
      "execution_count": 8,
      "source": [
        "# Problem 4: Alternative Constructor \n",
        "class MyDate:\n",
        "    def __init__(self, year, month, day):     # Constructor\n",
        "      # Python allows multiple variable assignments in one line\n",
        "      self.year, self.month, self.day = year, month, day    \n",
        "    # Define a class method from_str\n",
        "    @classmethod\n",
        "    def from_str(cls, datestr):\n",
        "    # Split the string at \"-\" and  convert each part to integer\n",
        "        parts = datestr.split(\"-\")\n",
        "        year, month, day = int(parts[0]), int(parts[1]), int(parts[2])\n",
        "        return cls(year, month, day)       # Return the class instance  \n",
        "bd = MyDate.from_str('2012-12-12')   \n",
        "print(bd.year)\n",
        "print(bd.month)\n",
        "print(bd.day)"
      ],
      "outputs": [
        {
          "output_type": "stream",
          "name": "stdout",
          "text": [
            "2012\n",
            "12\n",
            "12\n"
          ]
        }
      ],
      "metadata": {
        "colab": {
          "base_uri": "https://localhost:8080/"
        },
        "id": "kgcTkrRLMAOS",
        "outputId": "c9a01f64-4dbe-407b-bc34-52b111495b1f"
      }
    },
    {
      "cell_type": "code",
      "execution_count": 15,
      "source": [
        "## Problem 5 : Define a subclass \n",
        "class Employee:\n",
        "  MIN_SALARY = 30000    \n",
        "  def __init__(self, name, salary=MIN_SALARY):\n",
        "      self.name = name\n",
        "      if salary >= Employee.MIN_SALARY:\n",
        "        self.salary = salary\n",
        "      else:\n",
        "        self.salary = Employee.MIN_SALARY\n",
        "  def give_raise(self, amount):\n",
        "      self.salary += amount        \n",
        "# Define a new class Manager inheriting from Employee\n",
        "class Manager(Employee):\n",
        "  pass\n",
        "# Define a Manager object or child class \n",
        "mng = Manager(\"Ramesh\",20000)\n",
        "# Print mng's name\n",
        "print(mng.name)"
      ],
      "outputs": [
        {
          "output_type": "stream",
          "name": "stdout",
          "text": [
            "Ramesh\n"
          ]
        }
      ],
      "metadata": {
        "id": "nYTswZ10Nsp7",
        "colab": {
          "base_uri": "https://localhost:8080/"
        },
        "outputId": "8a0db4d9-1333-43cb-e497-f9fe8e6f7abc"
      }
    },
    {
      "cell_type": "code",
      "execution_count": 4,
      "source": [
        "class Employee:\n",
        "    def __init__(self, name, salary=30000):\n",
        "        self.name = name\n",
        "        self.salary = salary\n",
        "    def give_raise(self, amount):\n",
        "        self.salary += amount       \n",
        "class Manager(Employee):\n",
        "  # Add a constructor \n",
        "    def __init__(self, name, salary=50000, project=None):\n",
        "        Employee.__init__(self, name, salary) # Call the parent's constructor \n",
        "        self.project = project      # Assign project attribute\n",
        "    def display(self):\n",
        "        print(\"Manager \", self.name)\n",
        "  "
      ],
      "outputs": [],
      "metadata": {
        "id": "jdLifzmVPRVn"
      }
    },
    {
      "cell_type": "markdown",
      "source": [
        "### Which of the following statements about inheritance of class attributes is correct?\n",
        "* Class attributes CANNOT be inherited, but new class attributes of the same name CAN be created in a child class.\n",
        "* Class attributes CANNOT be inherited, and new class attributes of the same name CANNOT be created in a child class.\n",
        "* Class attributes CAN be inherited, and the value of class attributes CAN be overwritten in the child class\n",
        "* Class attributes can be inherited, and the value of class attributes CANNOT be overwritten in the child class\n",
        "\n",
        "Answer is 3rd option."
      ],
      "metadata": {
        "id": "6TcV9F15cmcB"
      }
    }
  ]
}