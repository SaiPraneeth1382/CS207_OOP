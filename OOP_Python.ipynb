{
  "nbformat": 4,
  "nbformat_minor": 0,
  "metadata": {
    "colab": {
      "name": "OOP_Python.ipynb",
      "provenance": [],
      "collapsed_sections": []
    },
    "kernelspec": {
      "name": "python3",
      "display_name": "Python 3"
    },
    "language_info": {
      "name": "python"
    }
  },
  "cells": [
    {
      "cell_type": "code",
      "metadata": {
        "id": "NULJdqE0v0xh"
      },
      "source": [
        "#1. what is Static Variable?\n",
        "\n",
        "class Duck:\n",
        "    animal = True\n",
        "    def __init__(self):\n",
        "        self.animal_group = 'Bird'\n",
        "        self.sound = 'Quack!'\n",
        "        self.legs = 2"
      ],
      "execution_count": 12,
      "outputs": []
    },
    {
      "cell_type": "markdown",
      "metadata": {
        "id": "WMYgbOKx0ezL"
      },
      "source": [
        "## 2. Problem "
      ]
    },
    {
      "cell_type": "code",
      "metadata": {
        "colab": {
          "base_uri": "https://localhost:8080/"
        },
        "id": "KCBCw3Ir0jQj",
        "outputId": "87b55c56-3924-4130-95e5-db8d660f691d"
      },
      "source": [
        "#fill in the blank\n",
        "\n",
        "class Wolf:\n",
        "    def __init__(self):\n",
        "    \tself.sound = 'Welcome'   \n",
        "    def MakeSound(self):\n",
        "    \treturn self.sound\n",
        "wolf_obj = Wolf()\n",
        "print(wolf_obj.MakeSound())\n",
        "\n",
        "#output is welcome"
      ],
      "execution_count": 13,
      "outputs": [
        {
          "output_type": "stream",
          "name": "stdout",
          "text": [
            "Welcome\n"
          ]
        }
      ]
    },
    {
      "cell_type": "code",
      "metadata": {
        "colab": {
          "base_uri": "https://localhost:8080/"
        },
        "id": "U1GkBK7U3t1m",
        "outputId": "970a9d74-008c-459a-bd41-c6361d6586f2"
      },
      "source": [
        "#3. Problem\n",
        "\n",
        "class Cat:\n",
        "    def __init__(self):\n",
        "    \tprint('Cat object: Meow!')\n",
        "cat_obj = Cat()"
      ],
      "execution_count": 1,
      "outputs": [
        {
          "output_type": "stream",
          "name": "stdout",
          "text": [
            "Cat object: Meow!\n"
          ]
        }
      ]
    },
    {
      "cell_type": "code",
      "metadata": {
        "colab": {
          "base_uri": "https://localhost:8080/"
        },
        "id": "AgPQP8od4l21",
        "outputId": "bb2bfddf-4062-4b57-841d-4f11e4599deb"
      },
      "source": [
        "#4. Fill in the blanks\n",
        "import numpy as np\n",
        "\n",
        "class MaxVal:\n",
        "  def __init__(self, array_1):\n",
        "    self.A = array_1  \n",
        "  def MaximumValue(self):\n",
        "    \"\"\"Returns the maximum \n",
        "    value of an array.\"\"\"\n",
        "    return np.amax(self.A)\n",
        "op_obj = MaxVal(np.array([8, 23, 5]))\n",
        "print(op_obj.MaximumValue())"
      ],
      "execution_count": 8,
      "outputs": [
        {
          "output_type": "stream",
          "name": "stdout",
          "text": [
            "23\n"
          ]
        }
      ]
    },
    {
      "cell_type": "code",
      "metadata": {
        "colab": {
          "base_uri": "https://localhost:8080/"
        },
        "id": "bIEeaiJf8CiO",
        "outputId": "48c14f6f-6e10-46ac-d8b5-756f5cf200cf"
      },
      "source": [
        "#5.Problem \n",
        "# Select the best choice  - getAnimalGroup(animal),getAnimalGroup(Fish),getAnimalGroup(self) \n",
        "\n",
        "class Shark:\n",
        "    def __init__(self):\n",
        "    \tself.animal_group = 'Fish'\n",
        "    def getAnimalGroup(self):\n",
        "    \treturn self.animal_group\n",
        "shark = Shark()\n",
        "print(\"Group:\",shark.getAnimalGroup())"
      ],
      "execution_count": 6,
      "outputs": [
        {
          "output_type": "stream",
          "name": "stdout",
          "text": [
            "Group: Fish\n"
          ]
        }
      ]
    },
    {
      "cell_type": "code",
      "metadata": {
        "id": "iTo6p27n-AVA",
        "colab": {
          "base_uri": "https://localhost:8080/"
        },
        "outputId": "c004f9bc-bebd-41c7-c8dd-c1b3bf99ebb5"
      },
      "source": [
        "#6. Problem \n",
        "class Lion:\n",
        "    def __init__(self):\n",
        "      self.animal_group = 'Mammal'\n",
        "      self.sound = 'Roar!!!'     \n",
        "    def MakeSound(self):\n",
        "      print(self.sound)    \n",
        "lion_object =  Lion()\n",
        "lion_object = lion_object.MakeSound()"
      ],
      "execution_count": 7,
      "outputs": [
        {
          "output_type": "stream",
          "name": "stdout",
          "text": [
            "Roar!!!\n"
          ]
        }
      ]
    },
    {
      "cell_type": "code",
      "metadata": {
        "id": "kNsQj3HH-bDz"
      },
      "source": [
        "#7. \"Class Variables are usually referred as ...while Class Functions are usually referred as...\"\n",
        "    \"objects and methods\""
      ],
      "execution_count": null,
      "outputs": []
    },
    {
      "cell_type": "code",
      "metadata": {
        "id": "Bk4sANZB1jpJ"
      },
      "source": [
        "#8. Which of the following is NOT an Object in Python?\n",
        "\n",
        "#List,Data Frames, Variable, Everything is an object in python\n",
        "\"Everything is an object in Python\""
      ],
      "execution_count": null,
      "outputs": []
    },
    {
      "cell_type": "markdown",
      "metadata": {
        "id": "A2J9-es6A-ix"
      },
      "source": [
        "#### Given an object is created using the constructor of a certain class, we can say that:\n",
        "\n",
        "1. Object is an instance of a Class\n",
        "2. Object is a method of a Class\n",
        "3. Class is an instance of an Object\n",
        "4. Object is attribute of a Class\n",
        "\n",
        "Answer is option 1."
      ]
    },
    {
      "cell_type": "code",
      "metadata": {
        "id": "z-tmCDOPBxME",
        "colab": {
          "base_uri": "https://localhost:8080/",
          "height": 128
        },
        "outputId": "f3ec540a-492a-43cf-8bde-dbf224028997"
      },
      "source": [
        "# Complete the Code \n",
        "'''\n",
        "array([[1., 0., 0., ..., 0., 1., 1.],\n",
        "       [1., 0., 0., ..., 0., 1., 1.],\n",
        "       [0., 0., 1., ..., 0., 0., 4.],\n",
        "       ...,\n",
        "       [1., 0., 0., ..., 0., 1., 1.],\n",
        "       [0., 0., 1., ..., 0., 0., 7.],\n",
        "       [0., 1., 1., ..., 0., 0., 2.]])\n",
        "'''\n",
        "\n",
        "class DataShell:\n",
        "    def __init__(self, filename):\n",
        "        self.file = filename\n",
        "    def create_datashell(self):\n",
        "        self.array = ?[1:,1:]\n",
        "        return self.array\n",
        "      \n",
        "data_obj = DataShell(filepath)\n",
        "data_obj.create_datashell()"
      ],
      "execution_count": 43,
      "outputs": [
        {
          "output_type": "error",
          "ename": "SyntaxError",
          "evalue": "ignored",
          "traceback": [
            "\u001b[0;36m  File \u001b[0;32m\"<ipython-input-43-915965de304f>\"\u001b[0;36m, line \u001b[0;32m16\u001b[0m\n\u001b[0;31m    self.array = ?[1:,1:]\u001b[0m\n\u001b[0m                 ^\u001b[0m\n\u001b[0;31mSyntaxError\u001b[0m\u001b[0;31m:\u001b[0m invalid syntax\n"
          ]
        }
      ]
    },
    {
      "cell_type": "code",
      "metadata": {
        "id": "7gk73G1CD2wW"
      },
      "source": [
        "#Complete the code\n",
        "# Select - self, Vertebrate, Mammal, __init__\n",
        "\n",
        "class Vertebrate:\n",
        "    spinal_cord = True\n",
        "    def __init__(self, name):\n",
        "        self.name = name\n",
        "        \n",
        "class Mammal(Vertebrate):\n",
        "    def __init__(self, name):\n",
        "        self.name = name\n",
        "        self.can_lay_egg = False"
      ],
      "execution_count": 18,
      "outputs": []
    },
    {
      "cell_type": "code",
      "metadata": {
        "id": "GS7NX77yEmz1",
        "colab": {
          "base_uri": "https://localhost:8080/"
        },
        "outputId": "428f960f-a0bb-4ba5-9eaa-44a43819e8f9"
      },
      "source": [
        "# Complete the Code \n",
        "class ListClass:\n",
        "  \n",
        "  def __init__(self,l1):\n",
        "    self.new_list = l1\n",
        "    print('List Object Created')\n",
        "    \n",
        "# Instantiate the Class\n",
        "list_object = ListClass([4, 8, 0])"
      ],
      "execution_count": 27,
      "outputs": [
        {
          "output_type": "stream",
          "name": "stdout",
          "text": [
            "List Object Created\n"
          ]
        }
      ]
    },
    {
      "cell_type": "code",
      "metadata": {
        "colab": {
          "base_uri": "https://localhost:8080/"
        },
        "id": "7mvLxsOnFD5D",
        "outputId": "5577226b-3b0b-4cf3-e3b9-28de6c973372"
      },
      "source": [
        "# what is the output?\n",
        "def concatA(a,b):\n",
        "  return a + b\n",
        "\n",
        "print(concatA([9, 2, 1],[4, 8, 7]))\n"
      ],
      "execution_count": 14,
      "outputs": [
        {
          "output_type": "stream",
          "name": "stdout",
          "text": [
            "[9, 2, 1, 4, 8, 7]\n"
          ]
        }
      ]
    },
    {
      "cell_type": "markdown",
      "metadata": {
        "id": "wBwJ_MqRFeuL"
      },
      "source": [
        "## A class that takes elements of other classes to create a more complex class is called -------\n",
        "Inheritance"
      ]
    },
    {
      "cell_type": "code",
      "metadata": {
        "id": "CcuwlrmpGR_z",
        "colab": {
          "base_uri": "https://localhost:8080/"
        },
        "outputId": "c66b1e7a-5a48-4a8d-bae9-efbfda21abb7"
      },
      "source": [
        "# complete the code\n",
        "# output is OOP course : Mandatory for Third Semester\n",
        "\n",
        "\n",
        "class OOP_class:\n",
        "    def __init__(self, name):\n",
        "      self.name = name      \n",
        "    def result(self):\n",
        "        print(self.name,'Mandatory for Third Semester  ')\n",
        "OOP_ob = OOP_class('OOP Course :')\n",
        "OOP_ob.result()"
      ],
      "execution_count": 10,
      "outputs": [
        {
          "output_type": "stream",
          "name": "stdout",
          "text": [
            "OOP Course : Mandatory for Third Semester  \n"
          ]
        }
      ]
    },
    {
      "cell_type": "code",
      "metadata": {
        "id": "mvZwbknzJUkQ",
        "colab": {
          "base_uri": "https://localhost:8080/"
        },
        "outputId": "098a8fef-ceee-46e0-c489-6c9b1bacb6df"
      },
      "source": [
        "# Complete the Code :\n",
        "# output:    The Bear is angry: Roar\n",
        "\n",
        "class Bear: \n",
        "    def __init__(self):\n",
        "        self.animal_group = 'Mammal'\n",
        "        self.sound = 'Roar!!!'    \n",
        "    def getGroup(self):\n",
        "        return self.animal_group\n",
        "    def getSound(self):\n",
        "        return self.sound\n",
        "      \n",
        "bear_obj = Bear()\n",
        "print(\"The Bear is angry:\", bear_obj.getSound)"
      ],
      "execution_count": 21,
      "outputs": [
        {
          "output_type": "stream",
          "name": "stdout",
          "text": [
            "The Bear is angry: <bound method Bear.getSound of <__main__.Bear object at 0x7f5eb04114d0>>\n"
          ]
        }
      ]
    },
    {
      "cell_type": "code",
      "metadata": {
        "colab": {
          "base_uri": "https://localhost:8080/"
        },
        "id": "i9csw1DCKpx4",
        "outputId": "96845692-255a-4451-97bc-f86f4b66961d"
      },
      "source": [
        "## Complete the Code\n",
        "# Output :    We are OOP Classmates\n",
        "\n",
        "class SimpleClass:\n",
        "\tprint('We are OOP Classmates')\n",
        "\tpass\n",
        "\n",
        "# Create an object with SimpleClass\n",
        "simple_object = SimpleClass()"
      ],
      "execution_count": 26,
      "outputs": [
        {
          "output_type": "stream",
          "name": "stdout",
          "text": [
            "We are OOP Classmates\n"
          ]
        }
      ]
    },
    {
      "cell_type": "code",
      "metadata": {
        "id": "C8fZutpgLj2b",
        "colab": {
          "base_uri": "https://localhost:8080/"
        },
        "outputId": "a9de368b-8c95-4c57-bc05-3417a4e24e29"
      },
      "source": [
        "## Complete the code\n",
        "#Output : Croak!!!\n",
        "\n",
        "class Frog:\n",
        "    def __init__(self):\n",
        "      self.Animalgroup = 'Amphibian'\n",
        "      self.sound= 'Croak!!!' \n",
        "    def MakeSound(self):\n",
        "      print(self.sound)\n",
        "frog_object =  Frog()\n",
        "frog_object = frog_object.MakeSound()"
      ],
      "execution_count": 22,
      "outputs": [
        {
          "output_type": "stream",
          "name": "stdout",
          "text": [
            "Croak!!!\n"
          ]
        }
      ]
    },
    {
      "cell_type": "code",
      "metadata": {
        "id": "vJpBRvveNTLF"
      },
      "source": [
        "# Complete the code\n",
        "# Output : \n",
        "\n",
        "class Mammal(Vertebrate):\n",
        "    def __init__(self, name, kind):\n",
        "        self.animal_type = kind\n",
        "        self.can_lay_egg = False\n",
        "class Bird(Vertebrate):\n",
        "    def __init__(self, name, kind):\n",
        "        self.animal_type = kind\n",
        "        self.can_lay_egg = True"
      ],
      "execution_count": 25,
      "outputs": []
    }
  ]
}